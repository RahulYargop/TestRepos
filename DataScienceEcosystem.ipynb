{
  "nbformat": 4,
  "nbformat_minor": 0,
  "metadata": {
    "colab": {
      "provenance": []
    },
    "kernelspec": {
      "name": "python3",
      "display_name": "Python 3"
    },
    "language_info": {
      "name": "python"
    }
  },
  "cells": [
    {
      "cell_type": "markdown",
      "source": [
        "#Data Science Tools and Ecosystem"
      ],
      "metadata": {
        "id": "KLW3IkSJeCn8"
      }
    },
    {
      "cell_type": "markdown",
      "source": [
        "In this notebook, Data Science Tools and Ecosystem are summarized."
      ],
      "metadata": {
        "id": "vQzZIayFeRlg"
      }
    },
    {
      "cell_type": "markdown",
      "source": [
        "Some of the popular languages that Data Scientists use are:\n",
        "1. Python\n",
        "2. SQL\n",
        "3. R"
      ],
      "metadata": {
        "id": "er61lGUDegbU"
      }
    },
    {
      "cell_type": "markdown",
      "source": [
        "Some of the commonly used libraries used by Data Scientists include:\n",
        "1. Numpy\n",
        "2. Pandas\n",
        "3. Scikit Learn\n",
        "4. Matplotlib\n"
      ],
      "metadata": {
        "id": "JF4GC7kJexmn"
      }
    },
    {
      "cell_type": "markdown",
      "source": [
        " Data Science Tools :\n",
        "\n",
        "\n",
        "| Tools            | Description                                                                 |\n",
        "|------------------|------------------------------------------------------------------------------|\n",
        "| VS Code          | Lightweight code editor with support for multiple languages and extensions for data science. |\n",
        "| RStudio          | IDE for R programming, used for statistical analysis and visualization.     |\n",
        "| Jupyter Notebook | Web-based interactive environment for writing and running code, especially in Python. |\n",
        "\n"
      ],
      "metadata": {
        "id": "FtDHQFmRfKda"
      }
    },
    {
      "cell_type": "markdown",
      "source": [
        "###Below are a few examples of evaluating arithmetic expressions in Python\n",
        "result = 10 - 4\n",
        "print(result)\n",
        "result = 6 * 7\n",
        "print(result)\n"
      ],
      "metadata": {
        "id": "WrPNBl1dhBwi"
      }
    },
    {
      "cell_type": "code",
      "source": [
        "(3*4)+5\n",
        "# This a simple arithmetic expression to mutiply then add integers"
      ],
      "metadata": {
        "colab": {
          "base_uri": "https://localhost:8080/"
        },
        "id": "pOViIltCeKWu",
        "outputId": "d50c7068-0053-4e85-b17a-e43d561087e7"
      },
      "execution_count": 1,
      "outputs": [
        {
          "output_type": "execute_result",
          "data": {
            "text/plain": [
              "17"
            ]
          },
          "metadata": {},
          "execution_count": 1
        }
      ]
    },
    {
      "cell_type": "code",
      "source": [
        "minutes = 200\n",
        "hours = minutes // 60\n",
        "remaining_minutes = minutes % 60\n",
        "print(f\"{hours} :hours, {remaining_minutes} :minutes\")"
      ],
      "metadata": {
        "colab": {
          "base_uri": "https://localhost:8080/"
        },
        "id": "mDMSr0WHh2Uf",
        "outputId": "28e30668-85aa-43ac-9943-b35414d8f4b1"
      },
      "execution_count": 3,
      "outputs": [
        {
          "output_type": "stream",
          "name": "stdout",
          "text": [
            "3 :hours, 20 :minutes\n"
          ]
        }
      ]
    },
    {
      "cell_type": "markdown",
      "source": [
        "Objectives:\n",
        "* list of tools in ds\n",
        "* arithmetic operators\n",
        "* heading\n",
        "* minutes to hours\n"
      ],
      "metadata": {
        "id": "3IyBB7Czjybh"
      }
    },
    {
      "cell_type": "markdown",
      "source": [
        "##Author\n",
        "Rahul Yargop\n"
      ],
      "metadata": {
        "id": "SZGfbASgkOFb"
      }
    },
    {
      "cell_type": "code",
      "source": [],
      "metadata": {
        "id": "h1kkr5pkiiIX"
      },
      "execution_count": null,
      "outputs": []
    }
  ]
}